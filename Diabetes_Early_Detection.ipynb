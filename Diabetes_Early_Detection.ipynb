{
  "nbformat": 4,
  "nbformat_minor": 0,
  "metadata": {
    "colab": {
      "name": "Diabetes Early Detection.ipynb",
      "provenance": [],
      "toc_visible": true,
      "mount_file_id": "1UjO1xbkfsWTVTAXdK7RO5fgRcBrXOB6-",
      "authorship_tag": "ABX9TyN8z7XjqgubZ0bbB2HwIHCn",
      "include_colab_link": true
    },
    "kernelspec": {
      "name": "python3",
      "display_name": "Python 3"
    }
  },
  "cells": [
    {
      "cell_type": "markdown",
      "metadata": {
        "id": "view-in-github",
        "colab_type": "text"
      },
      "source": [
        "<a href=\"https://colab.research.google.com/github/Khamaldeeen/StuternCapstoneProject/blob/main/Diabetes_Early_Detection.ipynb\" target=\"_parent\"><img src=\"https://colab.research.google.com/assets/colab-badge.svg\" alt=\"Open In Colab\"/></a>"
      ]
    },
    {
      "cell_type": "markdown",
      "metadata": {
        "id": "VQxGOWcoyinQ"
      },
      "source": [
        "## Project Title: Diabetes Early Detection"
      ]
    },
    {
      "cell_type": "markdown",
      "metadata": {
        "id": "2NlD6dvsywAu"
      },
      "source": [
        "## Abstract\n",
        "<p> The menace of diabetes cannot be overemphasized as it is a prevalent disease among people. It is not even evident in young people and as such, numerous research has to be taken in place in order to get facts which can assist in early detection of diabetes. </p>\n",
        "<p> The main goal of this project is to collect anonymous data of diabetes patients and anaylyzie some of their persisitent health conditions observed in their body system before eventually being diagnosed of diabetes. </p>\n",
        "<p> The advantage of this model is that, it can easily examine some features and accurately tell if a patieent is likely to develop diabetes </p>"
      ]
    },
    {
      "cell_type": "markdown",
      "metadata": {
        "id": "i5-_GRgg0Neg"
      },
      "source": [
        "# Introduction\n",
        "<p> Diabetes is a group of disease that affect how the body uses blood sugar (Glucose). The glucose is a vital substance in our body that makes up healthy living since it's a very important source of energy for the cells that make up the muslces and tissues. Infact, the brain is highy dependent on it for source of fuel and functionaity. </p> \n",
        "<p> There are numerous underlying causes of diabetes and it varies by types. However, each type of diabetes has one sole purpose and that is to increase the amount of sugar in the body thereby leading to excess amount of it in the blood. This can lead to serious health complicaions. </p> \n",
        "<p> Chronic diabetes conditions include type 1 and type 2 diabetes. In some cases, there are the reversible forms of diabetes which are also known as prediabetes. It occurs in cases when the sugar in the blood is high than normal but it is not classified yet as dibetes and also gestational diabetes, which occurs during preganancy but may resolve after the baby is delivered </p>"
      ]
    },
    {
      "cell_type": "markdown",
      "metadata": {
        "id": "ltqgwFW74CmJ"
      },
      "source": [
        "**Importing necessary libraries for EDA and Data Cleaning**"
      ]
    },
    {
      "cell_type": "code",
      "metadata": {
        "id": "XQiEguSbyX98"
      },
      "source": [
        "import numpy as np \n",
        "import pandas as pd \n",
        "import matplotlib.pyplot as plt \n",
        "import seaborn as sns \n",
        "sns.set(style='darkgrid')"
      ],
      "execution_count": 2,
      "outputs": []
    },
    {
      "cell_type": "markdown",
      "metadata": {
        "id": "g7Dw39Ul4obr"
      },
      "source": [
        "#Load data"
      ]
    },
    {
      "cell_type": "code",
      "metadata": {
        "id": "U_js230_4mmT",
        "outputId": "9568284b-41e7-4edd-d5cc-ea3f236a242a",
        "colab": {
          "base_uri": "https://localhost:8080/",
          "height": 258
        }
      },
      "source": [
        "data = pd.read_csv('diabetes.csv')\n",
        "#Data preview\n",
        "data.head(5)"
      ],
      "execution_count": 3,
      "outputs": [
        {
          "output_type": "execute_result",
          "data": {
            "text/html": [
              "<div>\n",
              "<style scoped>\n",
              "    .dataframe tbody tr th:only-of-type {\n",
              "        vertical-align: middle;\n",
              "    }\n",
              "\n",
              "    .dataframe tbody tr th {\n",
              "        vertical-align: top;\n",
              "    }\n",
              "\n",
              "    .dataframe thead th {\n",
              "        text-align: right;\n",
              "    }\n",
              "</style>\n",
              "<table border=\"1\" class=\"dataframe\">\n",
              "  <thead>\n",
              "    <tr style=\"text-align: right;\">\n",
              "      <th></th>\n",
              "      <th>Age</th>\n",
              "      <th>Gender</th>\n",
              "      <th>Polyuria</th>\n",
              "      <th>Polydipsia</th>\n",
              "      <th>sudden weight loss</th>\n",
              "      <th>weakness</th>\n",
              "      <th>Polyphagia</th>\n",
              "      <th>Genital thrush</th>\n",
              "      <th>visual blurring</th>\n",
              "      <th>Itching</th>\n",
              "      <th>Irritability</th>\n",
              "      <th>delayed healing</th>\n",
              "      <th>partial paresis</th>\n",
              "      <th>muscle stiffness</th>\n",
              "      <th>Alopecia</th>\n",
              "      <th>Obesity</th>\n",
              "      <th>class</th>\n",
              "    </tr>\n",
              "  </thead>\n",
              "  <tbody>\n",
              "    <tr>\n",
              "      <th>0</th>\n",
              "      <td>40</td>\n",
              "      <td>Male</td>\n",
              "      <td>No</td>\n",
              "      <td>Yes</td>\n",
              "      <td>No</td>\n",
              "      <td>Yes</td>\n",
              "      <td>No</td>\n",
              "      <td>No</td>\n",
              "      <td>No</td>\n",
              "      <td>Yes</td>\n",
              "      <td>No</td>\n",
              "      <td>Yes</td>\n",
              "      <td>No</td>\n",
              "      <td>Yes</td>\n",
              "      <td>Yes</td>\n",
              "      <td>Yes</td>\n",
              "      <td>Positive</td>\n",
              "    </tr>\n",
              "    <tr>\n",
              "      <th>1</th>\n",
              "      <td>58</td>\n",
              "      <td>Male</td>\n",
              "      <td>No</td>\n",
              "      <td>No</td>\n",
              "      <td>No</td>\n",
              "      <td>Yes</td>\n",
              "      <td>No</td>\n",
              "      <td>No</td>\n",
              "      <td>Yes</td>\n",
              "      <td>No</td>\n",
              "      <td>No</td>\n",
              "      <td>No</td>\n",
              "      <td>Yes</td>\n",
              "      <td>No</td>\n",
              "      <td>Yes</td>\n",
              "      <td>No</td>\n",
              "      <td>Positive</td>\n",
              "    </tr>\n",
              "    <tr>\n",
              "      <th>2</th>\n",
              "      <td>41</td>\n",
              "      <td>Male</td>\n",
              "      <td>Yes</td>\n",
              "      <td>No</td>\n",
              "      <td>No</td>\n",
              "      <td>Yes</td>\n",
              "      <td>Yes</td>\n",
              "      <td>No</td>\n",
              "      <td>No</td>\n",
              "      <td>Yes</td>\n",
              "      <td>No</td>\n",
              "      <td>Yes</td>\n",
              "      <td>No</td>\n",
              "      <td>Yes</td>\n",
              "      <td>Yes</td>\n",
              "      <td>No</td>\n",
              "      <td>Positive</td>\n",
              "    </tr>\n",
              "    <tr>\n",
              "      <th>3</th>\n",
              "      <td>45</td>\n",
              "      <td>Male</td>\n",
              "      <td>No</td>\n",
              "      <td>No</td>\n",
              "      <td>Yes</td>\n",
              "      <td>Yes</td>\n",
              "      <td>Yes</td>\n",
              "      <td>Yes</td>\n",
              "      <td>No</td>\n",
              "      <td>Yes</td>\n",
              "      <td>No</td>\n",
              "      <td>Yes</td>\n",
              "      <td>No</td>\n",
              "      <td>No</td>\n",
              "      <td>No</td>\n",
              "      <td>No</td>\n",
              "      <td>Positive</td>\n",
              "    </tr>\n",
              "    <tr>\n",
              "      <th>4</th>\n",
              "      <td>60</td>\n",
              "      <td>Male</td>\n",
              "      <td>Yes</td>\n",
              "      <td>Yes</td>\n",
              "      <td>Yes</td>\n",
              "      <td>Yes</td>\n",
              "      <td>Yes</td>\n",
              "      <td>No</td>\n",
              "      <td>Yes</td>\n",
              "      <td>Yes</td>\n",
              "      <td>Yes</td>\n",
              "      <td>Yes</td>\n",
              "      <td>Yes</td>\n",
              "      <td>Yes</td>\n",
              "      <td>Yes</td>\n",
              "      <td>Yes</td>\n",
              "      <td>Positive</td>\n",
              "    </tr>\n",
              "  </tbody>\n",
              "</table>\n",
              "</div>"
            ],
            "text/plain": [
              "   Age Gender Polyuria Polydipsia  ... muscle stiffness Alopecia Obesity     class\n",
              "0   40   Male       No        Yes  ...              Yes      Yes     Yes  Positive\n",
              "1   58   Male       No         No  ...               No      Yes      No  Positive\n",
              "2   41   Male      Yes         No  ...              Yes      Yes      No  Positive\n",
              "3   45   Male       No         No  ...               No       No      No  Positive\n",
              "4   60   Male      Yes        Yes  ...              Yes      Yes     Yes  Positive\n",
              "\n",
              "[5 rows x 17 columns]"
            ]
          },
          "metadata": {
            "tags": []
          },
          "execution_count": 3
        }
      ]
    },
    {
      "cell_type": "markdown",
      "metadata": {
        "id": "yiXgpWSV74Eb"
      },
      "source": [
        "Check for missing values.\n",
        "There are several methods for checking for missing values. \n",
        "1. We can start by showing the unique values in a categorical data.\n",
        "2. Use the isnull function to cumulate numbers of nan if there exists any\n",
        "3. We can equally replace missing numbers with np.nan"
      ]
    },
    {
      "cell_type": "code",
      "metadata": {
        "id": "FUv9_DJb8fCF",
        "outputId": "4ca39feb-5c54-46ac-c9b7-400849e2b28b",
        "colab": {
          "base_uri": "https://localhost:8080/"
        }
      },
      "source": [
        "for i in data.columns:\n",
        "  print(data[i].unique())"
      ],
      "execution_count": 4,
      "outputs": [
        {
          "output_type": "stream",
          "text": [
            "[40 58 41 45 60 55 57 66 67 70 44 38 35 61 54 43 62 39 48 32 42 52 53 37\n",
            " 49 63 30 50 46 36 51 59 65 25 47 28 68 56 31 85 90 72 69 79 34 16 33 64\n",
            " 27 29 26]\n",
            "['Male' 'Female']\n",
            "['No' 'Yes']\n",
            "['Yes' 'No']\n",
            "['No' 'Yes']\n",
            "['Yes' 'No']\n",
            "['No' 'Yes']\n",
            "['No' 'Yes']\n",
            "['No' 'Yes']\n",
            "['Yes' 'No']\n",
            "['No' 'Yes']\n",
            "['Yes' 'No']\n",
            "['No' 'Yes']\n",
            "['Yes' 'No']\n",
            "['Yes' 'No']\n",
            "['Yes' 'No']\n",
            "['Positive' 'Negative']\n"
          ],
          "name": "stdout"
        }
      ]
    },
    {
      "cell_type": "code",
      "metadata": {
        "id": "1WgxyY9T5TGr",
        "outputId": "8c579681-28c0-48d2-b0c8-e20952ab296e",
        "colab": {
          "base_uri": "https://localhost:8080/"
        }
      },
      "source": [
        "data.isnull().sum()"
      ],
      "execution_count": 5,
      "outputs": [
        {
          "output_type": "execute_result",
          "data": {
            "text/plain": [
              "Age                   0\n",
              "Gender                0\n",
              "Polyuria              0\n",
              "Polydipsia            0\n",
              "sudden weight loss    0\n",
              "weakness              0\n",
              "Polyphagia            0\n",
              "Genital thrush        0\n",
              "visual blurring       0\n",
              "Itching               0\n",
              "Irritability          0\n",
              "delayed healing       0\n",
              "partial paresis       0\n",
              "muscle stiffness      0\n",
              "Alopecia              0\n",
              "Obesity               0\n",
              "class                 0\n",
              "dtype: int64"
            ]
          },
          "metadata": {
            "tags": []
          },
          "execution_count": 5
        }
      ]
    },
    {
      "cell_type": "markdown",
      "metadata": {
        "id": "O29OV_8y8r3D"
      },
      "source": [
        "Above result indicate there are no missing values or data represented by '?' or unexpected character. "
      ]
    },
    {
      "cell_type": "markdown",
      "metadata": {
        "id": "hOxzVuRM88wL"
      },
      "source": [
        "5 Data summary"
      ]
    },
    {
      "cell_type": "code",
      "metadata": {
        "id": "b6xk5xdg8qCz",
        "outputId": "dcb29cca-33fc-40e3-c711-8867eb25434c",
        "colab": {
          "base_uri": "https://localhost:8080/",
          "height": 444
        }
      },
      "source": [
        "data.describe(include='all')"
      ],
      "execution_count": 6,
      "outputs": [
        {
          "output_type": "execute_result",
          "data": {
            "text/html": [
              "<div>\n",
              "<style scoped>\n",
              "    .dataframe tbody tr th:only-of-type {\n",
              "        vertical-align: middle;\n",
              "    }\n",
              "\n",
              "    .dataframe tbody tr th {\n",
              "        vertical-align: top;\n",
              "    }\n",
              "\n",
              "    .dataframe thead th {\n",
              "        text-align: right;\n",
              "    }\n",
              "</style>\n",
              "<table border=\"1\" class=\"dataframe\">\n",
              "  <thead>\n",
              "    <tr style=\"text-align: right;\">\n",
              "      <th></th>\n",
              "      <th>Age</th>\n",
              "      <th>Gender</th>\n",
              "      <th>Polyuria</th>\n",
              "      <th>Polydipsia</th>\n",
              "      <th>sudden weight loss</th>\n",
              "      <th>weakness</th>\n",
              "      <th>Polyphagia</th>\n",
              "      <th>Genital thrush</th>\n",
              "      <th>visual blurring</th>\n",
              "      <th>Itching</th>\n",
              "      <th>Irritability</th>\n",
              "      <th>delayed healing</th>\n",
              "      <th>partial paresis</th>\n",
              "      <th>muscle stiffness</th>\n",
              "      <th>Alopecia</th>\n",
              "      <th>Obesity</th>\n",
              "      <th>class</th>\n",
              "    </tr>\n",
              "  </thead>\n",
              "  <tbody>\n",
              "    <tr>\n",
              "      <th>count</th>\n",
              "      <td>520.000000</td>\n",
              "      <td>520</td>\n",
              "      <td>520</td>\n",
              "      <td>520</td>\n",
              "      <td>520</td>\n",
              "      <td>520</td>\n",
              "      <td>520</td>\n",
              "      <td>520</td>\n",
              "      <td>520</td>\n",
              "      <td>520</td>\n",
              "      <td>520</td>\n",
              "      <td>520</td>\n",
              "      <td>520</td>\n",
              "      <td>520</td>\n",
              "      <td>520</td>\n",
              "      <td>520</td>\n",
              "      <td>520</td>\n",
              "    </tr>\n",
              "    <tr>\n",
              "      <th>unique</th>\n",
              "      <td>NaN</td>\n",
              "      <td>2</td>\n",
              "      <td>2</td>\n",
              "      <td>2</td>\n",
              "      <td>2</td>\n",
              "      <td>2</td>\n",
              "      <td>2</td>\n",
              "      <td>2</td>\n",
              "      <td>2</td>\n",
              "      <td>2</td>\n",
              "      <td>2</td>\n",
              "      <td>2</td>\n",
              "      <td>2</td>\n",
              "      <td>2</td>\n",
              "      <td>2</td>\n",
              "      <td>2</td>\n",
              "      <td>2</td>\n",
              "    </tr>\n",
              "    <tr>\n",
              "      <th>top</th>\n",
              "      <td>NaN</td>\n",
              "      <td>Male</td>\n",
              "      <td>No</td>\n",
              "      <td>No</td>\n",
              "      <td>No</td>\n",
              "      <td>Yes</td>\n",
              "      <td>No</td>\n",
              "      <td>No</td>\n",
              "      <td>No</td>\n",
              "      <td>No</td>\n",
              "      <td>No</td>\n",
              "      <td>No</td>\n",
              "      <td>No</td>\n",
              "      <td>No</td>\n",
              "      <td>No</td>\n",
              "      <td>No</td>\n",
              "      <td>Positive</td>\n",
              "    </tr>\n",
              "    <tr>\n",
              "      <th>freq</th>\n",
              "      <td>NaN</td>\n",
              "      <td>328</td>\n",
              "      <td>262</td>\n",
              "      <td>287</td>\n",
              "      <td>303</td>\n",
              "      <td>305</td>\n",
              "      <td>283</td>\n",
              "      <td>404</td>\n",
              "      <td>287</td>\n",
              "      <td>267</td>\n",
              "      <td>394</td>\n",
              "      <td>281</td>\n",
              "      <td>296</td>\n",
              "      <td>325</td>\n",
              "      <td>341</td>\n",
              "      <td>432</td>\n",
              "      <td>320</td>\n",
              "    </tr>\n",
              "    <tr>\n",
              "      <th>mean</th>\n",
              "      <td>48.028846</td>\n",
              "      <td>NaN</td>\n",
              "      <td>NaN</td>\n",
              "      <td>NaN</td>\n",
              "      <td>NaN</td>\n",
              "      <td>NaN</td>\n",
              "      <td>NaN</td>\n",
              "      <td>NaN</td>\n",
              "      <td>NaN</td>\n",
              "      <td>NaN</td>\n",
              "      <td>NaN</td>\n",
              "      <td>NaN</td>\n",
              "      <td>NaN</td>\n",
              "      <td>NaN</td>\n",
              "      <td>NaN</td>\n",
              "      <td>NaN</td>\n",
              "      <td>NaN</td>\n",
              "    </tr>\n",
              "    <tr>\n",
              "      <th>std</th>\n",
              "      <td>12.151466</td>\n",
              "      <td>NaN</td>\n",
              "      <td>NaN</td>\n",
              "      <td>NaN</td>\n",
              "      <td>NaN</td>\n",
              "      <td>NaN</td>\n",
              "      <td>NaN</td>\n",
              "      <td>NaN</td>\n",
              "      <td>NaN</td>\n",
              "      <td>NaN</td>\n",
              "      <td>NaN</td>\n",
              "      <td>NaN</td>\n",
              "      <td>NaN</td>\n",
              "      <td>NaN</td>\n",
              "      <td>NaN</td>\n",
              "      <td>NaN</td>\n",
              "      <td>NaN</td>\n",
              "    </tr>\n",
              "    <tr>\n",
              "      <th>min</th>\n",
              "      <td>16.000000</td>\n",
              "      <td>NaN</td>\n",
              "      <td>NaN</td>\n",
              "      <td>NaN</td>\n",
              "      <td>NaN</td>\n",
              "      <td>NaN</td>\n",
              "      <td>NaN</td>\n",
              "      <td>NaN</td>\n",
              "      <td>NaN</td>\n",
              "      <td>NaN</td>\n",
              "      <td>NaN</td>\n",
              "      <td>NaN</td>\n",
              "      <td>NaN</td>\n",
              "      <td>NaN</td>\n",
              "      <td>NaN</td>\n",
              "      <td>NaN</td>\n",
              "      <td>NaN</td>\n",
              "    </tr>\n",
              "    <tr>\n",
              "      <th>25%</th>\n",
              "      <td>39.000000</td>\n",
              "      <td>NaN</td>\n",
              "      <td>NaN</td>\n",
              "      <td>NaN</td>\n",
              "      <td>NaN</td>\n",
              "      <td>NaN</td>\n",
              "      <td>NaN</td>\n",
              "      <td>NaN</td>\n",
              "      <td>NaN</td>\n",
              "      <td>NaN</td>\n",
              "      <td>NaN</td>\n",
              "      <td>NaN</td>\n",
              "      <td>NaN</td>\n",
              "      <td>NaN</td>\n",
              "      <td>NaN</td>\n",
              "      <td>NaN</td>\n",
              "      <td>NaN</td>\n",
              "    </tr>\n",
              "    <tr>\n",
              "      <th>50%</th>\n",
              "      <td>47.500000</td>\n",
              "      <td>NaN</td>\n",
              "      <td>NaN</td>\n",
              "      <td>NaN</td>\n",
              "      <td>NaN</td>\n",
              "      <td>NaN</td>\n",
              "      <td>NaN</td>\n",
              "      <td>NaN</td>\n",
              "      <td>NaN</td>\n",
              "      <td>NaN</td>\n",
              "      <td>NaN</td>\n",
              "      <td>NaN</td>\n",
              "      <td>NaN</td>\n",
              "      <td>NaN</td>\n",
              "      <td>NaN</td>\n",
              "      <td>NaN</td>\n",
              "      <td>NaN</td>\n",
              "    </tr>\n",
              "    <tr>\n",
              "      <th>75%</th>\n",
              "      <td>57.000000</td>\n",
              "      <td>NaN</td>\n",
              "      <td>NaN</td>\n",
              "      <td>NaN</td>\n",
              "      <td>NaN</td>\n",
              "      <td>NaN</td>\n",
              "      <td>NaN</td>\n",
              "      <td>NaN</td>\n",
              "      <td>NaN</td>\n",
              "      <td>NaN</td>\n",
              "      <td>NaN</td>\n",
              "      <td>NaN</td>\n",
              "      <td>NaN</td>\n",
              "      <td>NaN</td>\n",
              "      <td>NaN</td>\n",
              "      <td>NaN</td>\n",
              "      <td>NaN</td>\n",
              "    </tr>\n",
              "    <tr>\n",
              "      <th>max</th>\n",
              "      <td>90.000000</td>\n",
              "      <td>NaN</td>\n",
              "      <td>NaN</td>\n",
              "      <td>NaN</td>\n",
              "      <td>NaN</td>\n",
              "      <td>NaN</td>\n",
              "      <td>NaN</td>\n",
              "      <td>NaN</td>\n",
              "      <td>NaN</td>\n",
              "      <td>NaN</td>\n",
              "      <td>NaN</td>\n",
              "      <td>NaN</td>\n",
              "      <td>NaN</td>\n",
              "      <td>NaN</td>\n",
              "      <td>NaN</td>\n",
              "      <td>NaN</td>\n",
              "      <td>NaN</td>\n",
              "    </tr>\n",
              "  </tbody>\n",
              "</table>\n",
              "</div>"
            ],
            "text/plain": [
              "               Age Gender Polyuria  ... Alopecia Obesity     class\n",
              "count   520.000000    520      520  ...      520     520       520\n",
              "unique         NaN      2        2  ...        2       2         2\n",
              "top            NaN   Male       No  ...       No      No  Positive\n",
              "freq           NaN    328      262  ...      341     432       320\n",
              "mean     48.028846    NaN      NaN  ...      NaN     NaN       NaN\n",
              "std      12.151466    NaN      NaN  ...      NaN     NaN       NaN\n",
              "min      16.000000    NaN      NaN  ...      NaN     NaN       NaN\n",
              "25%      39.000000    NaN      NaN  ...      NaN     NaN       NaN\n",
              "50%      47.500000    NaN      NaN  ...      NaN     NaN       NaN\n",
              "75%      57.000000    NaN      NaN  ...      NaN     NaN       NaN\n",
              "max      90.000000    NaN      NaN  ...      NaN     NaN       NaN\n",
              "\n",
              "[11 rows x 17 columns]"
            ]
          },
          "metadata": {
            "tags": []
          },
          "execution_count": 6
        }
      ]
    },
    {
      "cell_type": "markdown",
      "metadata": {
        "id": "9ww0dkVz9N8n"
      },
      "source": [
        "There are 530 0bservations, with the average age to be placed around 48 years of age. "
      ]
    },
    {
      "cell_type": "markdown",
      "metadata": {
        "id": "cl_yumCpABl_"
      },
      "source": [
        "# EDA"
      ]
    },
    {
      "cell_type": "code",
      "metadata": {
        "id": "idlGsNZl9FlQ"
      },
      "source": [
        "# This function plots the varation of features as against the severity of having diabetes\n",
        "#Can give us better insights on the powerful deciding features on the the possibility of developing diabetes.\n",
        "def barPlot(column):\n",
        "    '''\n",
        "    column takes the value of the current column feature which is used to plot against the class  of diabetes.\n",
        "    '''\n",
        "    fig = plt.figure(figsize = (15,6))\n",
        "    sns.barplot(column, 'Class', data=data)\n",
        "    plt.show()"
      ],
      "execution_count": 7,
      "outputs": []
    },
    {
      "cell_type": "markdown",
      "metadata": {
        "id": "BG5olcZWBuGF"
      },
      "source": [
        "Creating a list containing predictor variables and a seperate list which is the target variable. \n",
        "The age is not a factor here since we are more concered about the features that were recorded and if they eventually came psotive for the diabetes dignosis.\n",
        "However, we can assign the age to a class of Young, Adult/Middle age and Old age. "
      ]
    },
    {
      "cell_type": "code",
      "metadata": {
        "id": "lq741skcAdM-"
      },
      "source": [
        "age = ['Age']\n",
        "targ = ['Class', 'class']\n",
        "pred_col = [x for x in data.columns if x not in age + targ]\n",
        "data['Class'] = data['class'].map({'Positive':1, 'Negative':0})\n"
      ],
      "execution_count": 8,
      "outputs": []
    },
    {
      "cell_type": "code",
      "metadata": {
        "id": "_Wyi_BfWAxfG",
        "outputId": "c81c2b4a-f3e2-43f6-b850-b951706837a1",
        "colab": {
          "base_uri": "https://localhost:8080/"
        }
      },
      "source": [
        "data['Gender'].value_counts()"
      ],
      "execution_count": 9,
      "outputs": [
        {
          "output_type": "execute_result",
          "data": {
            "text/plain": [
              "Male      328\n",
              "Female    192\n",
              "Name: Gender, dtype: int64"
            ]
          },
          "metadata": {
            "tags": []
          },
          "execution_count": 9
        }
      ]
    },
    {
      "cell_type": "code",
      "metadata": {
        "id": "uHXVqkGXBcJA"
      },
      "source": [
        "def ageGroup(x):\n",
        "  if x <= 25:\n",
        "    return 'Young'\n",
        "  elif x > 25 and x < 60:\n",
        "    return 'Middle Age'\n",
        "  else:\n",
        "    return 'Old'"
      ],
      "execution_count": 10,
      "outputs": []
    },
    {
      "cell_type": "code",
      "metadata": {
        "id": "Bz8Q-zoMEbym"
      },
      "source": [
        "data['Age Group'] = data['Age'].apply(ageGroup)"
      ],
      "execution_count": 11,
      "outputs": []
    },
    {
      "cell_type": "code",
      "metadata": {
        "id": "1rO8hA5MEiWx",
        "outputId": "385910ac-aca1-4144-c316-abc9d7d54d87",
        "colab": {
          "base_uri": "https://localhost:8080/"
        }
      },
      "source": [
        "data['Age Group'].value_counts()"
      ],
      "execution_count": 12,
      "outputs": [
        {
          "output_type": "execute_result",
          "data": {
            "text/plain": [
              "Middle Age    422\n",
              "Old            95\n",
              "Young           3\n",
              "Name: Age Group, dtype: int64"
            ]
          },
          "metadata": {
            "tags": []
          },
          "execution_count": 12
        }
      ]
    },
    {
      "cell_type": "markdown",
      "metadata": {
        "id": "KjtQOS_yGRT7"
      },
      "source": [
        "From the above observation, it is safe to ignore the age distrubuton and focus on other predictors."
      ]
    },
    {
      "cell_type": "code",
      "metadata": {
        "id": "7dAOB6SOExPz"
      },
      "source": [
        "pred_col1 = pred_col + ['Age Group']"
      ],
      "execution_count": 13,
      "outputs": []
    },
    {
      "cell_type": "code",
      "metadata": {
        "id": "KMDDT9lMGk1l",
        "outputId": "53d68eab-7324-4497-9b77-eaa13c272e71",
        "colab": {
          "base_uri": "https://localhost:8080/",
          "height": 1000
        }
      },
      "source": [
        "for i in pred_col1:\n",
        "  barPlot(i)"
      ],
      "execution_count": 14,
      "outputs": [
        {
          "output_type": "stream",
          "text": [
            "/usr/local/lib/python3.6/dist-packages/seaborn/_decorators.py:43: FutureWarning: Pass the following variables as keyword args: x, y. From version 0.12, the only valid positional argument will be `data`, and passing other arguments without an explicit keyword will result in an error or misinterpretation.\n",
            "  FutureWarning\n"
          ],
          "name": "stderr"
        },
        {
          "output_type": "display_data",
          "data": {
            "image/png": "[encoded data removed]",
            "text/plain": [
              "<Figure size 1080x432 with 1 Axes>"
            ]
          },
          "metadata": {
            "tags": []
          }
        },
        {
          "output_type": "stream",
          "text": [
            "/usr/local/lib/python3.6/dist-packages/seaborn/_decorators.py:43: FutureWarning: Pass the following variables as keyword args: x, y. From version 0.12, the only valid positional argument will be `data`, and passing other arguments without an explicit keyword will result in an error or misinterpretation.\n",
            "  FutureWarning\n"
          ],
          "name": "stderr"
        },
        {
          "output_type": "display_data",
          "data": {
            "image/png": "[encoded data removed]",
            "text/plain": [
              "<Figure size 1080x432 with 1 Axes>"
            ]
          },
          "metadata": {
            "tags": []
          }
        },
        {
          "output_type": "stream",
          "text": [
            "/usr/local/lib/python3.6/dist-packages/seaborn/_decorators.py:43: FutureWarning: Pass the following variables as keyword args: x, y. From version 0.12, the only valid positional argument will be `data`, and passing other arguments without an explicit keyword will result in an error or misinterpretation.\n",
            "  FutureWarning\n"
          ],
          "name": "stderr"
        },
        {
          "output_type": "display_data",
          "data": {
            "image/png": "[encoded data removed]",
            "text/plain": [
              "<Figure size 1080x432 with 1 Axes>"
            ]
          },
          "metadata": {
            "tags": []
          }
        },
        {
          "output_type": "stream",
          "text": [
            "/usr/local/lib/python3.6/dist-packages/seaborn/_decorators.py:43: FutureWarning: Pass the following variables as keyword args: x, y. From version 0.12, the only valid positional argument will be `data`, and passing other arguments without an explicit keyword will result in an error or misinterpretation.\n",
            "  FutureWarning\n"
          ],
          "name": "stderr"
        },
        {
          "output_type": "display_data",
          "data": {
            "image/png": "[encoded data removed]",
            "text/plain": [
              "<Figure size 1080x432 with 1 Axes>"
            ]
          },
          "metadata": {
            "tags": []
          }
        },
        {
          "output_type": "stream",
          "text": [
            "/usr/local/lib/python3.6/dist-packages/seaborn/_decorators.py:43: FutureWarning: Pass the following variables as keyword args: x, y. From version 0.12, the only valid positional argument will be `data`, and passing other arguments without an explicit keyword will result in an error or misinterpretation.\n",
            "  FutureWarning\n"
          ],
          "name": "stderr"
        },
        {
          "output_type": "display_data",
          "data": {
            "image/png": "[encoded data removed]",
            "text/plain": [
              "<Figure size 1080x432 with 1 Axes>"
            ]
          },
          "metadata": {
            "tags": []
          }
        },
        {
          "output_type": "stream",
          "text": [
            "/usr/local/lib/python3.6/dist-packages/seaborn/_decorators.py:43: FutureWarning: Pass the following variables as keyword args: x, y. From version 0.12, the only valid positional argument will be `data`, and passing other arguments without an explicit keyword will result in an error or misinterpretation.\n",
            "  FutureWarning\n"
          ],
          "name": "stderr"
        },
        {
          "output_type": "display_data",
          "data": {
            "image/png": "[encoded data removed]",
            "text/plain": [
              "<Figure size 1080x432 with 1 Axes>"
            ]
          },
          "metadata": {
            "tags": []
          }
        },
        {
          "output_type": "stream",
          "text": [
            "/usr/local/lib/python3.6/dist-packages/seaborn/_decorators.py:43: FutureWarning: Pass the following variables as keyword args: x, y. From version 0.12, the only valid positional argument will be `data`, and passing other arguments without an explicit keyword will result in an error or misinterpretation.\n",
            "  FutureWarning\n"
          ],
          "name": "stderr"
        },
        {
          "output_type": "display_data",
          "data": {
            "image/png": "[encoded data removed]",
            "text/plain": [
              "<Figure size 1080x432 with 1 Axes>"
            ]
          },
          "metadata": {
            "tags": []
          }
        },
        {
          "output_type": "stream",
          "text": [
            "/usr/local/lib/python3.6/dist-packages/seaborn/_decorators.py:43: FutureWarning: Pass the following variables as keyword args: x, y. From version 0.12, the only valid positional argument will be `data`, and passing other arguments without an explicit keyword will result in an error or misinterpretation.\n",
            "  FutureWarning\n"
          ],
          "name": "stderr"
        },
        {
          "output_type": "display_data",
          "data": {
            "image/png": "[encoded data removed]",
            "text/plain": [
              "<Figure size 1080x432 with 1 Axes>"
            ]
          },
          "metadata": {
            "tags": []
          }
        },
        {
          "output_type": "stream",
          "text": [
            "/usr/local/lib/python3.6/dist-packages/seaborn/_decorators.py:43: FutureWarning: Pass the following variables as keyword args: x, y. From version 0.12, the only valid positional argument will be `data`, and passing other arguments without an explicit keyword will result in an error or misinterpretation.\n",
            "  FutureWarning\n"
          ],
          "name": "stderr"
        },
        {
          "output_type": "display_data",
          "data": {
            "image/png": "[encoded data removed]",
            "text/plain": [
              "<Figure size 1080x432 with 1 Axes>"
            ]
          },
          "metadata": {
            "tags": []
          }
        },
        {
          "output_type": "stream",
          "text": [
            "/usr/local/lib/python3.6/dist-packages/seaborn/_decorators.py:43: FutureWarning: Pass the following variables as keyword args: x, y. From version 0.12, the only valid positional argument will be `data`, and passing other arguments without an explicit keyword will result in an error or misinterpretation.\n",
            "  FutureWarning\n"
          ],
          "name": "stderr"
        },
        {
          "output_type": "display_data",
          "data": {
            "image/png": "[encoded data removed]",
            "text/plain": [
              "<Figure size 1080x432 with 1 Axes>"
            ]
          },
          "metadata": {
            "tags": []
          }
        },
        {
          "output_type": "stream",
          "text": [
            "/usr/local/lib/python3.6/dist-packages/seaborn/_decorators.py:43: FutureWarning: Pass the following variables as keyword args: x, y. From version 0.12, the only valid positional argument will be `data`, and passing other arguments without an explicit keyword will result in an error or misinterpretation.\n",
            "  FutureWarning\n"
          ],
          "name": "stderr"
        },
        {
          "output_type": "display_data",
          "data": {
            "image/png": "[encoded data removed]",
            "text/plain": [
              "<Figure size 1080x432 with 1 Axes>"
            ]
          },
          "metadata": {
            "tags": []
          }
        },
        {
          "output_type": "stream",
          "text": [
            "/usr/local/lib/python3.6/dist-packages/seaborn/_decorators.py:43: FutureWarning: Pass the following variables as keyword args: x, y. From version 0.12, the only valid positional argument will be `data`, and passing other arguments without an explicit keyword will result in an error or misinterpretation.\n",
            "  FutureWarning\n"
          ],
          "name": "stderr"
        },
        {
          "output_type": "display_data",
          "data": {
            "image/png": "[encoded data removed]",
            "text/plain": [
              "<Figure size 1080x432 with 1 Axes>"
            ]
          },
          "metadata": {
            "tags": []
          }
        },
        {
          "output_type": "stream",
          "text": [
            "/usr/local/lib/python3.6/dist-packages/seaborn/_decorators.py:43: FutureWarning: Pass the following variables as keyword args: x, y. From version 0.12, the only valid positional argument will be `data`, and passing other arguments without an explicit keyword will result in an error or misinterpretation.\n",
            "  FutureWarning\n"
          ],
          "name": "stderr"
        },
        {
          "output_type": "display_data",
          "data": {
            "image/png": "[encoded data removed]",
            "text/plain": [
              "<Figure size 1080x432 with 1 Axes>"
            ]
          },
          "metadata": {
            "tags": []
          }
        },
        {
          "output_type": "stream",
          "text": [
            "/usr/local/lib/python3.6/dist-packages/seaborn/_decorators.py:43: FutureWarning: Pass the following variables as keyword args: x, y. From version 0.12, the only valid positional argument will be `data`, and passing other arguments without an explicit keyword will result in an error or misinterpretation.\n",
            "  FutureWarning\n"
          ],
          "name": "stderr"
        },
        {
          "output_type": "display_data",
          "data": {
            "image/png": "[encoded data removed]",
            "text/plain": [
              "<Figure size 1080x432 with 1 Axes>"
            ]
          },
          "metadata": {
            "tags": []
          }
        },
        {
          "output_type": "stream",
          "text": [
            "/usr/local/lib/python3.6/dist-packages/seaborn/_decorators.py:43: FutureWarning: Pass the following variables as keyword args: x, y. From version 0.12, the only valid positional argument will be `data`, and passing other arguments without an explicit keyword will result in an error or misinterpretation.\n",
            "  FutureWarning\n"
          ],
          "name": "stderr"
        },
        {
          "output_type": "display_data",
          "data": {
            "image/png": "[encoded data removed]",
            "text/plain": [
              "<Figure size 1080x432 with 1 Axes>"
            ]
          },
          "metadata": {
            "tags": []
          }
        },
        {
          "output_type": "stream",
          "text": [
            "/usr/local/lib/python3.6/dist-packages/seaborn/_decorators.py:43: FutureWarning: Pass the following variables as keyword args: x, y. From version 0.12, the only valid positional argument will be `data`, and passing other arguments without an explicit keyword will result in an error or misinterpretation.\n",
            "  FutureWarning\n"
          ],
          "name": "stderr"
        },
        {
          "output_type": "display_data",
          "data": {
            "image/png": "[encoded data removed]",
            "text/plain": [
              "<Figure size 1080x432 with 1 Axes>"
            ]
          },
          "metadata": {
            "tags": []
          }
        }
      ]
    },
    {
      "cell_type": "code",
      "metadata": {
        "id": "SIh4xCR-1Yc6",
        "outputId": "de2ca997-3d0c-4d2f-cf39-2f8e58ed97d8",
        "colab": {
          "base_uri": "https://localhost:8080/",
          "height": 453
        }
      },
      "source": [
        "#Further investigation on gender\n",
        "sns.catplot('class', hue='Gender', data=data, kind='count')"
      ],
      "execution_count": 15,
      "outputs": [
        {
          "output_type": "stream",
          "text": [
            "/usr/local/lib/python3.6/dist-packages/seaborn/_decorators.py:43: FutureWarning: Pass the following variable as a keyword arg: x. From version 0.12, the only valid positional argument will be `data`, and passing other arguments without an explicit keyword will result in an error or misinterpretation.\n",
            "  FutureWarning\n"
          ],
          "name": "stderr"
        },
        {
          "output_type": "execute_result",
          "data": {
            "text/plain": [
              "<seaborn.axisgrid.FacetGrid at 0x7f2e36088b00>"
            ]
          },
          "metadata": {
            "tags": []
          },
          "execution_count": 15
        },
        {
          "output_type": "display_data",
          "data": {
            "image/png": "[encoded data removed]",
            "text/plain": [
              "<Figure size 439.725x360 with 1 Axes>"
            ]
          },
          "metadata": {
            "tags": []
          }
        }
      ]
    },
    {
      "cell_type": "markdown",
      "metadata": {
        "id": "-JR14bv6G_nb"
      },
      "source": [
        "With 1 representing Positive and 0 repesenting Negative, the above graphs can be further explained below:\n",
        "<ol>\n",
        "  <li> <strong>Obesity</strong> :Obesity does not clearly indicate that the patient is at the risk of having diabetes. It is not having enough evidence to dismiss it or accept it as a factor that can lead to diabetes.\n",
        "  </li>\n",
        "  <li><strong>Alopecia </strong>: Having a conditon called alopecia has slighty shown that a patient is not at the risk of having diabetes. It is more aligned with having no big thing to do with diabetes. \n",
        "  </li>\n",
        "  <li><strong>Muscle Stiffness</strong> : Musce stiffness might be able to tell if a patient is at the risk of having diabetes. More patient that were diagnosed with having diabetes showed symptoms of muscle stiffness in their bodies.\n",
        "  </li>\n",
        "  <li><strong>Partial Paralysis</strong> : This is a clear evidence that a patient suffering from this condition is at high risk of having diabetes. More than 2/3 of the patients diagnosed with this condition eventually has diabetes.  \n",
        "  </li>\n",
        "  <li><strong>Delayed Healing</strong> : A delayed healing is not having a clear indication to come to the conclusion that a patient might be at the risk of having diabetes. It however does not dismiss that diabetes is present in the body of the patient. \n",
        "  </li>\n",
        "  <li><strong>Irritability</strong> : Irritability is a good indicator of the presence of diabetes in a patients body. Though, more conditons would have to be tested for in order to ascertain completely if the patient is at the verge of having diabetes.\n",
        "  </li>\n",
        "  <li><strong>Itching </strong> : Both patientd with or eithout itching showed possibility of having diabetes or not havng diabetes. This concludes that itching won't be a best fit condition to conclude that a patient may have diabetes or not. Other conditions would have to be taken into consideration\n",
        "  </li>\n",
        "  <li><strong>Visual Blurring </strong> : This is a good indicator as to whether a patient might be at the risk of having it. More patient with blurry sight have proven to be diabetic than those without blurry eye sight condition.\n",
        "  </li>\n",
        "  <li><strong>Genital Thrush</strong> : This is also a good indicator and with this condition, we can tick the boxes of underying health conditions that most likely would lead to diabetes in a patient.\n",
        "  </li>\n",
        "  <li><strong>Polyphagia</strong> : As seen from the graph, it is a good indicator that it highlights the presence of diabetes in a patient. \n",
        "  </li>\n",
        "  <li><strong>Weakness </strong> : Frequent weakness in the body system isn't a good sign as more diabetic patient has shown to suffer from such underlying health condition. \n",
        "  </li>\n",
        "  <li><strong>Obesity:</strong> Obesity doesn't clearly indicate the presence of diabetes in a patient\n",
        "  </li>\n",
        "  <li><strong>Sudden Weight Loss </strong> : Sudden weight loss is clearly a good sign that a patient might be at the risk of having diabetes\n",
        "  </li>\n",
        "  <li><strong>Polydipsia</strong> : Polydipsia is a condition whereby a patient has excessive or abnormal thirst. With the presence of this condition in a human body, it brings more clarity to the presence of diabetes in the bod\n",
        "  </li>\n",
        "  <li>\n",
        "  <strong> Ployuria </strong> : Polyuria is excessive or an abnormally large production or passage of urine. Increased production and passage of urine may also be termed diuresis. Polyuria often appears in conjunction with polydipsia, though it is possible to have one without the other, and the latter may be a cause or an effect\n",
        "  <p>The polyuria chart above further confirmed that a patient may be suffering from diabetes. It is a condition whereby a patient </p>\n",
        "  </li>\n",
        "  <li>\n",
        "  </li>\n",
        "  \n",
        "  \n",
        "  \n",
        "  "
      ]
    },
    {
      "cell_type": "markdown",
      "metadata": {
        "id": "2gJPJZR0H59Z"
      },
      "source": [
        "# Model Development"
      ]
    },
    {
      "cell_type": "markdown",
      "metadata": {
        "id": "RMskZnzn3toB"
      },
      "source": [
        "<p> The problem above as indicated is a binary classification and as such will require binary classification model. \n",
        "<ul>\n",
        "<li>I will be testing 3 top machine learning binary models on the dataset. \n",
        "</li>\n",
        "<li>I will be comparing the accuracies, true positives and false negatives. \n",
        "</li>\n",
        "</ul>\n",
        "In this kind of health related problem, the true positive and true negative accuracy is highly important and as such, is needed to be highly accurate. It will be disastorus to have someone who truly has diabetes being predicted to be false (False Negative) and such person is being deprived off treatment or have someone who do not have diabetes and is being diagnosed as positive and have such person placed on diabetes drugs. </p>"
      ]
    },
    {
      "cell_type": "markdown",
      "metadata": {
        "id": "-Mm__uX_8LDB"
      },
      "source": [
        "The following models will be estensively tested with different amount of feature engineering performed on the dataset for each models if need be.\n",
        "<ol>\n",
        "<li>Random Forest </li>\n",
        "<li>Logistic Regression </li>\n",
        "<li>Neural Network </li>\n",
        "</ol>"
      ]
    },
    {
      "cell_type": "markdown",
      "metadata": {
        "id": "6XhR4FXX-Pvb"
      },
      "source": [
        "# Random Forest Classification"
      ]
    },
    {
      "cell_type": "code",
      "metadata": {
        "id": "SvpAsDi1DflD"
      },
      "source": [
        "from sklearn.preprocessing import OneHotEncoder, LabelEncoder\n",
        "from sklearn.model_selection import train_test_split\n",
        "from sklearn.ensemble import RandomForestClassifier\n",
        "from sklearn.linear_model import LogisticRegression\n",
        "from sklearn.metrics import classification_report, roc_auc_score, roc_curve, auc"
      ],
      "execution_count": 16,
      "outputs": []
    },
    {
      "cell_type": "code",
      "metadata": {
        "id": "AaD4nc9IGu0c"
      },
      "source": [
        "'''\n",
        "The class below performs operations of split train test, transformation \n",
        "using either Hotencoder or Labelencoder, conversion of data into numpy array and returns the X_train, y_train, X_test and y_test\n",
        "'''\n",
        "class ModDiabetes:\n",
        "  def __init__(self, data, transform, X_cols, y_col):\n",
        "    \"\"\"\n",
        "    data: Takes in the object of the dataframe used for analysis\n",
        "    transform:  Takes in input string of 'LabelEncoder' for label encoding transformation \n",
        "                or 'Hotencoder' for one hot encoding transformation\n",
        "    X_cols: This is a list containing predictor variables headers. Helps in grabbing \n",
        "            the desired predictors from the dataframe.\n",
        "    y_col:  Target variable column inputed as a string.\n",
        "\n",
        "    \"\"\"\n",
        "    X = data[X_cols]\n",
        "    y = data[y_col]\n",
        "    X = np.array(X)\n",
        "    y = np.array(y)\n",
        "    #One hot encoder transformation\n",
        "    if transform == 'HotEncode':\n",
        "      enc = OneHotEncoder(sparse=False)\n",
        "      X = enc.fit_transform(X)\n",
        "    #Label encoder transformation\n",
        "    elif transform == 'LabelEncoder':\n",
        "      X = data[X_cols].apply(LabelEncoder().fit_transform)\n",
        "      X = X.values\n",
        "    self.X = X\n",
        "    self.y = y\n",
        "\n",
        "  #Function to preview the X and y arrays.\n",
        "  def preLoad(self):\n",
        "    return self.X, self.y\n",
        "\n",
        "  #Function splits the array into X_train, y_train, X_test and y_test taking into consideration test size and random state\n",
        "  def splitter(self, size, r_s):\n",
        "    \"\"\"\n",
        "      r_s: Takes in an integer value specifying a random state value for the train test split\n",
        "      size: Takes in a float between 0.0 and 1.0 specifying the desired size of the test. \n",
        "    \"\"\"\n",
        "    X_train, X_test, y_train, y_test = train_test_split(self.X, self.y, random_state=r_s, test_size=size)\n",
        "    return X_train, X_test, y_train, y_test\n",
        "\n",
        "  def dataSet(self):\n",
        "    '''\n",
        "    Function returns an array consisting of X predictors and y target variable.\n",
        "    '''\n",
        "    return self.X, self.y"
      ],
      "execution_count": 59,
      "outputs": []
    },
    {
      "cell_type": "markdown",
      "metadata": {
        "id": "hwJQG502cS_Q"
      },
      "source": [
        "##Using Hot Encoder for comparison of accuracy score, f1 score and precision score"
      ]
    },
    {
      "cell_type": "code",
      "metadata": {
        "id": "Y-Dp2T1bDxK9"
      },
      "source": [
        "Model = ModDiabetes(data, 'HotEncode', pred_col, 'Class')"
      ],
      "execution_count": 23,
      "outputs": []
    },
    {
      "cell_type": "code",
      "metadata": {
        "id": "XGMKj83ED50i",
        "outputId": "0e622fce-d488-4c8b-baf2-aa6e8ab6364f",
        "colab": {
          "base_uri": "https://localhost:8080/"
        }
      },
      "source": [
        "Model.preLoad()"
      ],
      "execution_count": 24,
      "outputs": [
        {
          "output_type": "execute_result",
          "data": {
            "text/plain": [
              "(array([[0., 1., 1., ..., 1., 0., 1.],\n",
              "        [0., 1., 1., ..., 1., 1., 0.],\n",
              "        [0., 1., 0., ..., 1., 1., 0.],\n",
              "        ...,\n",
              "        [1., 0., 0., ..., 0., 0., 1.],\n",
              "        [1., 0., 1., ..., 1., 1., 0.],\n",
              "        [0., 1., 1., ..., 0., 1., 0.]]),\n",
              " array([1, 1, 1, 1, 1, 1, 1, 1, 1, 1, 1, 1, 1, 1, 1, 1, 1, 1, 1, 1, 1, 1,\n",
              "        1, 1, 1, 1, 1, 1, 1, 1, 1, 1, 1, 1, 1, 1, 1, 1, 1, 1, 1, 1, 1, 1,\n",
              "        1, 1, 1, 1, 1, 1, 1, 1, 1, 1, 1, 1, 1, 1, 1, 1, 1, 1, 1, 1, 1, 1,\n",
              "        1, 1, 1, 1, 1, 1, 1, 1, 1, 1, 1, 1, 1, 1, 1, 1, 1, 1, 1, 1, 1, 1,\n",
              "        1, 1, 1, 1, 1, 1, 1, 1, 1, 1, 1, 1, 1, 1, 1, 1, 1, 1, 1, 1, 1, 1,\n",
              "        1, 1, 1, 1, 1, 1, 1, 1, 1, 1, 1, 1, 1, 1, 1, 1, 1, 1, 1, 1, 1, 1,\n",
              "        1, 1, 1, 1, 1, 1, 1, 1, 1, 1, 1, 1, 1, 1, 1, 1, 1, 1, 1, 1, 1, 1,\n",
              "        1, 1, 1, 1, 1, 1, 1, 1, 1, 1, 1, 1, 1, 1, 1, 1, 1, 1, 1, 1, 1, 1,\n",
              "        1, 1, 1, 1, 1, 1, 1, 1, 1, 1, 1, 1, 1, 1, 1, 1, 1, 1, 1, 1, 1, 1,\n",
              "        1, 1, 0, 0, 0, 0, 0, 0, 0, 0, 0, 0, 0, 0, 0, 0, 0, 0, 0, 0, 0, 0,\n",
              "        0, 0, 0, 0, 0, 0, 0, 0, 0, 0, 0, 0, 0, 0, 0, 0, 0, 0, 0, 0, 0, 0,\n",
              "        0, 0, 0, 0, 0, 0, 0, 1, 1, 1, 1, 1, 1, 1, 1, 1, 1, 1, 1, 1, 1, 1,\n",
              "        1, 1, 1, 1, 1, 1, 1, 1, 0, 0, 0, 0, 0, 0, 0, 0, 0, 0, 0, 0, 0, 0,\n",
              "        0, 0, 0, 0, 0, 0, 0, 0, 0, 1, 1, 1, 1, 1, 1, 1, 1, 1, 1, 0, 0, 0,\n",
              "        0, 0, 0, 0, 0, 0, 0, 0, 0, 0, 0, 0, 0, 0, 0, 0, 0, 0, 0, 0, 0, 0,\n",
              "        0, 0, 0, 0, 0, 0, 0, 1, 1, 1, 1, 1, 1, 1, 1, 1, 1, 0, 0, 0, 0, 0,\n",
              "        0, 0, 0, 0, 0, 0, 1, 1, 1, 1, 1, 1, 1, 1, 1, 1, 1, 0, 0, 0, 0, 0,\n",
              "        0, 0, 0, 0, 1, 1, 1, 1, 1, 1, 1, 1, 0, 0, 0, 0, 0, 0, 0, 0, 0, 0,\n",
              "        0, 0, 0, 0, 0, 0, 0, 0, 0, 0, 0, 0, 0, 0, 0, 0, 0, 0, 1, 1, 1, 1,\n",
              "        1, 1, 1, 1, 1, 1, 1, 1, 1, 1, 1, 1, 1, 1, 1, 1, 1, 1, 1, 1, 1, 1,\n",
              "        1, 1, 1, 1, 1, 1, 1, 1, 1, 1, 1, 1, 1, 1, 1, 1, 1, 1, 1, 1, 0, 0,\n",
              "        0, 0, 0, 0, 0, 0, 0, 0, 0, 0, 0, 0, 0, 0, 0, 0, 0, 0, 0, 0, 0, 1,\n",
              "        1, 1, 1, 1, 0, 0, 0, 0, 0, 0, 0, 0, 0, 0, 1, 0, 1, 0, 0, 0, 0, 0,\n",
              "        0, 0, 0, 0, 0, 0, 0, 1, 1, 1, 1, 1, 0, 0]))"
            ]
          },
          "metadata": {
            "tags": []
          },
          "execution_count": 24
        }
      ]
    },
    {
      "cell_type": "code",
      "metadata": {
        "id": "eg9wmDKkEdbX"
      },
      "source": [
        "trainX, testX, trainy, testy = Model.splitter(0.3, 0)"
      ],
      "execution_count": 25,
      "outputs": []
    },
    {
      "cell_type": "code",
      "metadata": {
        "id": "De2RAsnXe9U4",
        "outputId": "9bc1a300-94c0-40d0-d25a-5816311f302e",
        "colab": {
          "base_uri": "https://localhost:8080/"
        }
      },
      "source": [
        "mod = RandomForestClassifier(random_state=0)\n",
        "mod_ = mod.fit(trainX, trainy)\n",
        "mod_.predict(testX)\n"
      ],
      "execution_count": 26,
      "outputs": [
        {
          "output_type": "execute_result",
          "data": {
            "text/plain": [
              "array([1, 1, 1, 0, 0, 1, 1, 1, 1, 1, 1, 0, 1, 1, 1, 1, 0, 1, 1, 1, 1, 1,\n",
              "       1, 0, 0, 0, 1, 1, 0, 1, 1, 0, 0, 1, 1, 1, 1, 0, 1, 1, 1, 0, 1, 0,\n",
              "       0, 1, 1, 0, 1, 0, 1, 0, 1, 0, 1, 0, 1, 1, 1, 1, 0, 0, 1, 0, 1, 0,\n",
              "       1, 0, 1, 1, 0, 0, 1, 1, 0, 1, 0, 1, 1, 0, 1, 1, 0, 0, 1, 0, 1, 1,\n",
              "       0, 0, 0, 0, 0, 0, 0, 1, 1, 1, 1, 0, 0, 1, 1, 1, 0, 0, 1, 0, 1, 0,\n",
              "       1, 0, 1, 0, 1, 1, 0, 1, 1, 0, 0, 1, 1, 0, 1, 1, 0, 0, 0, 0, 1, 0,\n",
              "       0, 1, 1, 1, 1, 1, 1, 1, 1, 1, 0, 1, 0, 0, 1, 1, 1, 0, 1, 1, 1, 1,\n",
              "       1, 1])"
            ]
          },
          "metadata": {
            "tags": []
          },
          "execution_count": 26
        }
      ]
    },
    {
      "cell_type": "code",
      "metadata": {
        "id": "eQyZmRgpSwJq",
        "outputId": "8033dc15-f71a-40a6-835b-d2256ec42460",
        "colab": {
          "base_uri": "https://localhost:8080/"
        }
      },
      "source": [
        "print(classification_report(testy, mod.predict(testX)))"
      ],
      "execution_count": 27,
      "outputs": [
        {
          "output_type": "stream",
          "text": [
            "              precision    recall  f1-score   support\n",
            "\n",
            "           0       0.97      0.95      0.96        62\n",
            "           1       0.97      0.98      0.97        94\n",
            "\n",
            "    accuracy                           0.97       156\n",
            "   macro avg       0.97      0.97      0.97       156\n",
            "weighted avg       0.97      0.97      0.97       156\n",
            "\n"
          ],
          "name": "stdout"
        }
      ]
    },
    {
      "cell_type": "markdown",
      "metadata": {
        "id": "ASn3xiITNcbZ"
      },
      "source": [
        "##Finding ROC AUC Score"
      ]
    },
    {
      "cell_type": "code",
      "metadata": {
        "id": "Y8Ojgzx-NawT",
        "outputId": "5c41764b-963e-4341-acba-21f64b8462a1",
        "colab": {
          "base_uri": "https://localhost:8080/"
        }
      },
      "source": [
        "print(roc_auc_score(testy, mod.predict(testX)))"
      ],
      "execution_count": 28,
      "outputs": [
        {
          "output_type": "stream",
          "text": [
            "0.9651681537405628\n"
          ],
          "name": "stdout"
        }
      ]
    },
    {
      "cell_type": "code",
      "metadata": {
        "id": "-bLs5nWoN9d5"
      },
      "source": [
        "fpr, tpr, thresholds = roc_curve(testy, mod.predict(testX))"
      ],
      "execution_count": 29,
      "outputs": []
    },
    {
      "cell_type": "markdown",
      "metadata": {
        "id": "YuqdyHFMO0ud"
      },
      "source": [
        "##Receiver of Curve Graph"
      ]
    },
    {
      "cell_type": "code",
      "metadata": {
        "id": "YHy7d-adOzzN",
        "outputId": "696a7fc9-4c3a-42cb-aea6-5f9b6b073d7f",
        "colab": {
          "base_uri": "https://localhost:8080/",
          "height": 301
        }
      },
      "source": [
        "plt.figure()\n",
        "lw = 2\n",
        "plt.plot(fpr, tpr, color='darkorange',\n",
        "         lw=lw, label='ROC curve (area = %0.2f)' % roc_auc_score(testy, mod.predict(testX)))\n",
        "plt.plot([0, 1], [0, 1], color='navy', lw=lw, linestyle='--')\n",
        "plt.xlim([0.0, 1.0])\n",
        "plt.ylim([0.0, 1.05])\n",
        "plt.xlabel('False Positive Rate')\n",
        "plt.ylabel('True Positive Rate')\n",
        "plt.title('Receiver operating characteristic example')\n",
        "plt.legend(loc=\"lower right\")\n",
        "plt.show()"
      ],
      "execution_count": 30,
      "outputs": [
        {
          "output_type": "display_data",
          "data": {
            "image/png": "[encoded data removed]",
            "text/plain": [
              "<Figure size 432x288 with 1 Axes>"
            ]
          },
          "metadata": {
            "tags": []
          }
        }
      ]
    },
    {
      "cell_type": "markdown",
      "metadata": {
        "id": "eWYlCTjWNbrU"
      },
      "source": [
        ""
      ]
    },
    {
      "cell_type": "markdown",
      "metadata": {
        "id": "jTDDIFJIcnql"
      },
      "source": [
        "##Using Label encoder for comparison of f1 score, precision and accuracy"
      ]
    },
    {
      "cell_type": "code",
      "metadata": {
        "id": "ICJO4IZqb00c"
      },
      "source": [
        "Model_ = ModDiabetes(data, 'LabelEncoder', pred_col, 'Class')"
      ],
      "execution_count": 31,
      "outputs": []
    },
    {
      "cell_type": "markdown",
      "metadata": {
        "id": "83X-1c0BdGWM"
      },
      "source": [
        "##Splitting the dataset"
      ]
    },
    {
      "cell_type": "code",
      "metadata": {
        "id": "jdAhbWY5c3SE"
      },
      "source": [
        "trainX_, testX_, trainy_, testy_ = Model_.splitter(0.3, 0)"
      ],
      "execution_count": 32,
      "outputs": []
    },
    {
      "cell_type": "markdown",
      "metadata": {
        "id": "6Ag7lZgfdLAJ"
      },
      "source": [
        "##Model building"
      ]
    },
    {
      "cell_type": "code",
      "metadata": {
        "id": "01bQcvOadAUt",
        "outputId": "e5de2038-bb94-42af-ef45-c26714d283a3",
        "colab": {
          "base_uri": "https://localhost:8080/"
        }
      },
      "source": [
        "mod_ = RandomForestClassifier(random_state=0)\n",
        "mod__ = mod_.fit(trainX_, trainy_)\n",
        "mod__.predict(testX_)\n"
      ],
      "execution_count": 33,
      "outputs": [
        {
          "output_type": "execute_result",
          "data": {
            "text/plain": [
              "array([1, 1, 1, 0, 0, 1, 1, 1, 1, 1, 1, 0, 1, 1, 1, 1, 0, 1, 1, 1, 1, 1,\n",
              "       1, 0, 0, 0, 1, 1, 0, 1, 1, 0, 0, 1, 1, 1, 1, 0, 1, 1, 1, 0, 1, 0,\n",
              "       0, 1, 1, 0, 1, 0, 1, 0, 1, 0, 1, 1, 1, 1, 1, 1, 0, 0, 1, 0, 1, 0,\n",
              "       1, 0, 1, 1, 0, 0, 1, 1, 0, 1, 0, 1, 1, 0, 1, 1, 0, 0, 1, 0, 1, 1,\n",
              "       0, 0, 0, 0, 0, 0, 0, 1, 1, 1, 1, 0, 0, 1, 1, 1, 0, 0, 1, 0, 1, 0,\n",
              "       1, 0, 1, 0, 1, 1, 0, 1, 1, 0, 0, 1, 1, 0, 1, 1, 0, 0, 0, 0, 1, 0,\n",
              "       0, 1, 1, 1, 1, 1, 1, 1, 1, 1, 0, 1, 0, 0, 1, 1, 1, 0, 1, 1, 1, 1,\n",
              "       1, 1])"
            ]
          },
          "metadata": {
            "tags": []
          },
          "execution_count": 33
        }
      ]
    },
    {
      "cell_type": "markdown",
      "metadata": {
        "id": "Cw1T-aMEdfn9"
      },
      "source": [
        "##Classification report"
      ]
    },
    {
      "cell_type": "code",
      "metadata": {
        "id": "Tq5KSvwxdY4T",
        "outputId": "47d63a62-3e9e-4470-92ff-23e100f40b41",
        "colab": {
          "base_uri": "https://localhost:8080/"
        }
      },
      "source": [
        "print(classification_report(testy_, mod_.predict(testX_)))"
      ],
      "execution_count": 34,
      "outputs": [
        {
          "output_type": "stream",
          "text": [
            "              precision    recall  f1-score   support\n",
            "\n",
            "           0       0.98      0.95      0.97        62\n",
            "           1       0.97      0.99      0.98        94\n",
            "\n",
            "    accuracy                           0.97       156\n",
            "   macro avg       0.98      0.97      0.97       156\n",
            "weighted avg       0.97      0.97      0.97       156\n",
            "\n"
          ],
          "name": "stdout"
        }
      ]
    },
    {
      "cell_type": "code",
      "metadata": {
        "id": "aNRUIDqpdlfR",
        "outputId": "758eab59-c2d3-4581-8fab-920d9bc7b732",
        "colab": {
          "base_uri": "https://localhost:8080/"
        }
      },
      "source": [
        "print(roc_auc_score(testy_, mod_.predict(testX_)))"
      ],
      "execution_count": 35,
      "outputs": [
        {
          "output_type": "stream",
          "text": [
            "0.9704873026767331\n"
          ],
          "name": "stdout"
        }
      ]
    },
    {
      "cell_type": "code",
      "metadata": {
        "id": "pVU7XFovfDH0"
      },
      "source": [
        "fpr_, tpr_, thresholds_ = roc_curve(testy_, mod_.predict(testX_))"
      ],
      "execution_count": 39,
      "outputs": []
    },
    {
      "cell_type": "code",
      "metadata": {
        "id": "Bsp9VfJRKcvu",
        "outputId": "9b0d3c22-4ffa-48ea-c9ab-48e3fc8ec168",
        "colab": {
          "base_uri": "https://localhost:8080/"
        }
      },
      "source": [
        "print(auc(fpr_, tpr_))"
      ],
      "execution_count": 40,
      "outputs": [
        {
          "output_type": "stream",
          "text": [
            "0.9704873026767331\n"
          ],
          "name": "stdout"
        }
      ]
    },
    {
      "cell_type": "code",
      "metadata": {
        "id": "NO3OwnwEQMhY",
        "outputId": "7689b46b-6363-4937-9b39-eaaa8b74cc78",
        "colab": {
          "base_uri": "https://localhost:8080/",
          "height": 301
        }
      },
      "source": [
        "plt.figure()\n",
        "lw = 2\n",
        "plt.plot(fpr_, tpr_, color='darkorange',\n",
        "         lw=lw, label='ROC curve (area = %0.2f)' % roc_auc_score(testy_, mod_.predict(testX_)))\n",
        "plt.plot([0, 1], [0, 1], color='navy', lw=lw, linestyle='--')\n",
        "plt.xlim([0.0, 1.0])\n",
        "plt.ylim([0.0, 1.05])\n",
        "plt.xlabel('False Positive Rate')\n",
        "plt.ylabel('True Positive Rate')\n",
        "plt.title('Receiver operating characteristic example')\n",
        "plt.legend(loc=\"lower right\")\n",
        "plt.show()"
      ],
      "execution_count": 42,
      "outputs": [
        {
          "output_type": "display_data",
          "data": {
            "image/png": "[encoded data removed]",
            "text/plain": [
              "<Figure size 432x288 with 1 Axes>"
            ]
          },
          "metadata": {
            "tags": []
          }
        }
      ]
    },
    {
      "cell_type": "markdown",
      "metadata": {
        "id": "AShoJWf1lINU"
      },
      "source": [
        "# Logistics Regression"
      ]
    },
    {
      "cell_type": "markdown",
      "metadata": {
        "id": "g3CvDRsdo6jX"
      },
      "source": [
        "## Generating class model for logistics classification. "
      ]
    },
    {
      "cell_type": "markdown",
      "metadata": {
        "id": "H2RRuxWXpA0J"
      },
      "source": [
        "Model returns data splitted into X arrays and y arrays. \n",
        "Functions that will split into train test will be called and values of Xtest, ytest, xtrain and ytrain will be stored as a variable."
      ]
    },
    {
      "cell_type": "code",
      "metadata": {
        "id": "sqnjh6NDlLkM"
      },
      "source": [
        "LogModel = ModDiabetes(data, 'LabelEncoder', pred_col, 'Class' )"
      ],
      "execution_count": 43,
      "outputs": []
    },
    {
      "cell_type": "code",
      "metadata": {
        "id": "IKwVGLqelNTs"
      },
      "source": [
        "#Splitting data into train and test set using 20% as test size\n",
        "Xtrain, Xtest, ytrain, ytest = LogModel.splitter(0.2, 0)"
      ],
      "execution_count": 44,
      "outputs": []
    },
    {
      "cell_type": "markdown",
      "metadata": {
        "id": "BzfWsltypszq"
      },
      "source": [
        "Xtrain"
      ]
    },
    {
      "cell_type": "code",
      "metadata": {
        "id": "5jWN17P7pvER",
        "outputId": "208856c2-a261-46cb-dbae-507808d97542",
        "colab": {
          "base_uri": "https://localhost:8080/"
        }
      },
      "source": [
        "Log = LogisticRegression()\n",
        "Log.fit(Xtrain, ytrain)\n",
        "Log.predict(Xtest)"
      ],
      "execution_count": 47,
      "outputs": [
        {
          "output_type": "execute_result",
          "data": {
            "text/plain": [
              "array([1, 1, 1, 0, 0, 1, 1, 1, 0, 1, 1, 0, 1, 1, 1, 1, 0, 1, 1, 1, 1, 1,\n",
              "       1, 0, 0, 0, 1, 1, 1, 1, 1, 0, 1, 1, 1, 1, 1, 0, 1, 1, 1, 0, 1, 0,\n",
              "       0, 1, 1, 0, 1, 0, 1, 0, 1, 0, 1, 0, 1, 1, 1, 1, 0, 0, 1, 0, 1, 0,\n",
              "       1, 0, 1, 1, 0, 0, 1, 1, 0, 1, 0, 1, 1, 0, 1, 1, 0, 0, 1, 1, 1, 1,\n",
              "       0, 0, 0, 0, 0, 0, 0, 1, 1, 1, 1, 0, 0, 1, 1, 1])"
            ]
          },
          "metadata": {
            "tags": []
          },
          "execution_count": 47
        }
      ]
    },
    {
      "cell_type": "markdown",
      "metadata": {
        "id": "cuLenfJ4qEl2"
      },
      "source": [
        "## Classification Report of Logistics Regression Model"
      ]
    },
    {
      "cell_type": "code",
      "metadata": {
        "id": "fHiOg0uCqND7",
        "outputId": "4b9c73fd-685d-461d-e55f-fc4b44620ca3",
        "colab": {
          "base_uri": "https://localhost:8080/"
        }
      },
      "source": [
        "print(classification_report(ytest, Log.predict(Xtest)))"
      ],
      "execution_count": 48,
      "outputs": [
        {
          "output_type": "stream",
          "text": [
            "              precision    recall  f1-score   support\n",
            "\n",
            "           0       0.95      0.93      0.94        40\n",
            "           1       0.95      0.97      0.96        64\n",
            "\n",
            "    accuracy                           0.95       104\n",
            "   macro avg       0.95      0.95      0.95       104\n",
            "weighted avg       0.95      0.95      0.95       104\n",
            "\n"
          ],
          "name": "stdout"
        }
      ]
    },
    {
      "cell_type": "markdown",
      "metadata": {
        "id": "GusBLQtwrW-u"
      },
      "source": [
        "## Receiver of Curve Graph and Score"
      ]
    },
    {
      "cell_type": "code",
      "metadata": {
        "id": "xJtwHq1YrVPW",
        "outputId": "94788a8c-8b29-4db2-aa48-a6aac4ca52fa",
        "colab": {
          "base_uri": "https://localhost:8080/"
        }
      },
      "source": [
        "print(roc_auc_score(ytest, Log.predict(Xtest)))"
      ],
      "execution_count": 50,
      "outputs": [
        {
          "output_type": "stream",
          "text": [
            "0.9468750000000001\n"
          ],
          "name": "stdout"
        }
      ]
    },
    {
      "cell_type": "code",
      "metadata": {
        "id": "ZtSu0uyjsGOz"
      },
      "source": [
        "#Lfpr, Ltpr and Lthresholds representing variable for logistics model class\n",
        "Lfpr, Ltpr, Lthresholds = roc_curve(testy_, mod_.predict(testX_))"
      ],
      "execution_count": 51,
      "outputs": []
    },
    {
      "cell_type": "code",
      "metadata": {
        "id": "eH0jY9Nbr7yF",
        "outputId": "051c655f-7d36-4adf-bd2c-c5f660b577f3",
        "colab": {
          "base_uri": "https://localhost:8080/",
          "height": 301
        }
      },
      "source": [
        "plt.figure()\n",
        "lw = 2\n",
        "plt.plot(Lfpr, Ltpr, color='darkorange',\n",
        "         lw=lw, label='ROC curve (area = %0.2f)' % roc_auc_score(ytest, Log.predict(Xtest)))\n",
        "plt.plot([0, 1], [0, 1], color='navy', lw=lw, linestyle='--')\n",
        "plt.xlim([0.0, 1.0])\n",
        "plt.ylim([0.0, 1.05])\n",
        "plt.xlabel('False Positive Rate')\n",
        "plt.ylabel('True Positive Rate')\n",
        "plt.title('Receiver operating characteristic example')\n",
        "plt.legend(loc=\"lower right\")\n",
        "plt.show()"
      ],
      "execution_count": 52,
      "outputs": [
        {
          "output_type": "display_data",
          "data": {
            "image/png": "[encoded data removed]",
            "text/plain": [
              "<Figure size 432x288 with 1 Axes>"
            ]
          },
          "metadata": {
            "tags": []
          }
        }
      ]
    },
    {
      "cell_type": "markdown",
      "metadata": {
        "id": "AcIbpeTElN2U"
      },
      "source": [
        "# Neural Network (Keras)"
      ]
    },
    {
      "cell_type": "code",
      "metadata": {
        "id": "UghToJvdlQbL"
      },
      "source": [
        "from tensorflow import keras\n",
        "from keras.models import Sequential\n",
        "from keras.layers import Dense\n",
        "from keras import Input"
      ],
      "execution_count": 64,
      "outputs": []
    },
    {
      "cell_type": "markdown",
      "metadata": {
        "id": "LYcWYYHr7T7b"
      },
      "source": [
        "## Parsing Data into Class function"
      ]
    },
    {
      "cell_type": "markdown",
      "metadata": {
        "id": "D1n16vVi7b2f"
      },
      "source": [
        "Feature engineering is performed on dataset, predictor variables are specified and the target variable is equally specified"
      ]
    },
    {
      "cell_type": "code",
      "metadata": {
        "id": "VaKUN4O_u2vS"
      },
      "source": [
        "NN = ModDiabetes(data, 'HotEncode', pred_col, 'Class')"
      ],
      "execution_count": 60,
      "outputs": []
    },
    {
      "cell_type": "markdown",
      "metadata": {
        "id": "QCpdu5io7mMn"
      },
      "source": [
        "Grabbing the X and y array dataset."
      ]
    },
    {
      "cell_type": "code",
      "metadata": {
        "id": "9-2KovSCvKRC"
      },
      "source": [
        "X, y = NN.dataSet()"
      ],
      "execution_count": 61,
      "outputs": []
    },
    {
      "cell_type": "markdown",
      "metadata": {
        "id": "orESEfLb7req"
      },
      "source": [
        "## Model development"
      ]
    },
    {
      "cell_type": "code",
      "metadata": {
        "id": "wZf_OXUssljY"
      },
      "source": [
        "model = Sequential()"
      ],
      "execution_count": 55,
      "outputs": []
    },
    {
      "cell_type": "code",
      "metadata": {
        "id": "Mn62g2Vzv6eN",
        "outputId": "a5d535bf-4abc-425c-8b6c-f22715a66dc5",
        "colab": {
          "base_uri": "https://localhost:8080/"
        }
      },
      "source": [
        "X.shape"
      ],
      "execution_count": 62,
      "outputs": [
        {
          "output_type": "execute_result",
          "data": {
            "text/plain": [
              "(520, 30)"
            ]
          },
          "metadata": {
            "tags": []
          },
          "execution_count": 62
        }
      ]
    },
    {
      "cell_type": "code",
      "metadata": {
        "id": "9qCSNP91uFP0"
      },
      "source": [
        "#Create model, add dense layers each by specifying activation function\n",
        "\n",
        "model.add(Input(shape=(30,)))\n",
        "model.add(Dense(32, activation='relu'))\n",
        "model.add(Dense(38, activation='relu'))\n",
        "model.add(Dense(30, activation='relu'))\n",
        "model.add(Dense(35, activation='relu'))\n",
        "model.add(Dense(1, activation='sigmoid'))\n",
        "\n",
        "#Compile the model using adam gradient descent(optimized)\n",
        "\n",
        "model.compile(loss='binary_crossentropy', optimizer='adam', metrics=['accuracy'])"
      ],
      "execution_count": 67,
      "outputs": []
    },
    {
      "cell_type": "code",
      "metadata": {
        "id": "SlMl9r2Ruotz",
        "outputId": "e967f748-0c41-45ac-8a27-5c518fd71354",
        "colab": {
          "base_uri": "https://localhost:8080/"
        }
      },
      "source": [
        "model.fit(X, y, epochs=100, batch_size=1)\n",
        "\n",
        "scores = model.evaluate(X, y)\n",
        "print(\"\\n%s: %.2f%%\" %(model.metrics_names[1], scores[1]*100))"
      ],
      "execution_count": 68,
      "outputs": [
        {
          "output_type": "stream",
          "text": [
            "Epoch 1/100\n",
            "520/520 [==============================] - 1s 2ms/step - loss: 0.4810 - accuracy: 0.7019\n",
            "Epoch 2/100\n",
            "520/520 [==============================] - 1s 2ms/step - loss: 0.2892 - accuracy: 0.9115\n",
            "Epoch 3/100\n",
            "520/520 [==============================] - 1s 2ms/step - loss: 0.1994 - accuracy: 0.9327\n",
            "Epoch 4/100\n",
            "520/520 [==============================] - 1s 2ms/step - loss: 0.1608 - accuracy: 0.9462\n",
            "Epoch 5/100\n",
            "520/520 [==============================] - 1s 2ms/step - loss: 0.1057 - accuracy: 0.9712\n",
            "Epoch 6/100\n",
            "520/520 [==============================] - 1s 2ms/step - loss: 0.1040 - accuracy: 0.9635\n",
            "Epoch 7/100\n",
            "520/520 [==============================] - 1s 2ms/step - loss: 0.0671 - accuracy: 0.9731\n",
            "Epoch 8/100\n",
            "520/520 [==============================] - 1s 2ms/step - loss: 0.0705 - accuracy: 0.9769\n",
            "Epoch 9/100\n",
            "520/520 [==============================] - 1s 1ms/step - loss: 0.0477 - accuracy: 0.9808\n",
            "Epoch 10/100\n",
            "520/520 [==============================] - 1s 2ms/step - loss: 0.0377 - accuracy: 0.9865\n",
            "Epoch 11/100\n",
            "520/520 [==============================] - 1s 2ms/step - loss: 0.0542 - accuracy: 0.9788\n",
            "Epoch 12/100\n",
            "520/520 [==============================] - 1s 1ms/step - loss: 0.0287 - accuracy: 0.9885\n",
            "Epoch 13/100\n",
            "520/520 [==============================] - 1s 2ms/step - loss: 0.0394 - accuracy: 0.9827\n",
            "Epoch 14/100\n",
            "520/520 [==============================] - 1s 2ms/step - loss: 0.0199 - accuracy: 0.9885\n",
            "Epoch 15/100\n",
            "520/520 [==============================] - 1s 2ms/step - loss: 0.0442 - accuracy: 0.9750\n",
            "Epoch 16/100\n",
            "520/520 [==============================] - 1s 2ms/step - loss: 0.0382 - accuracy: 0.9846\n",
            "Epoch 17/100\n",
            "520/520 [==============================] - 1s 2ms/step - loss: 0.0481 - accuracy: 0.9865\n",
            "Epoch 18/100\n",
            "520/520 [==============================] - 1s 2ms/step - loss: 0.0844 - accuracy: 0.9692\n",
            "Epoch 19/100\n",
            "520/520 [==============================] - 1s 2ms/step - loss: 0.0301 - accuracy: 0.9904\n",
            "Epoch 20/100\n",
            "520/520 [==============================] - 1s 2ms/step - loss: 0.0190 - accuracy: 0.9923\n",
            "Epoch 21/100\n",
            "520/520 [==============================] - 1s 2ms/step - loss: 0.0215 - accuracy: 0.9865\n",
            "Epoch 22/100\n",
            "520/520 [==============================] - 1s 2ms/step - loss: 0.0139 - accuracy: 0.9942\n",
            "Epoch 23/100\n",
            "520/520 [==============================] - 1s 2ms/step - loss: 0.0285 - accuracy: 0.9923\n",
            "Epoch 24/100\n",
            "520/520 [==============================] - 1s 2ms/step - loss: 0.0272 - accuracy: 0.9885\n",
            "Epoch 25/100\n",
            "520/520 [==============================] - 1s 2ms/step - loss: 0.0150 - accuracy: 0.9942\n",
            "Epoch 26/100\n",
            "520/520 [==============================] - 1s 2ms/step - loss: 0.0111 - accuracy: 0.9923\n",
            "Epoch 27/100\n",
            "520/520 [==============================] - 1s 2ms/step - loss: 0.0442 - accuracy: 0.9904\n",
            "Epoch 28/100\n",
            "520/520 [==============================] - 1s 2ms/step - loss: 0.0394 - accuracy: 0.9885\n",
            "Epoch 29/100\n",
            "520/520 [==============================] - 1s 2ms/step - loss: 0.0296 - accuracy: 0.9885\n",
            "Epoch 30/100\n",
            "520/520 [==============================] - 1s 2ms/step - loss: 0.0603 - accuracy: 0.9827\n",
            "Epoch 31/100\n",
            "520/520 [==============================] - 1s 2ms/step - loss: 0.0331 - accuracy: 0.9885\n",
            "Epoch 32/100\n",
            "520/520 [==============================] - 1s 2ms/step - loss: 0.0168 - accuracy: 0.9942\n",
            "Epoch 33/100\n",
            "520/520 [==============================] - 1s 2ms/step - loss: 0.0143 - accuracy: 0.9885\n",
            "Epoch 34/100\n",
            "520/520 [==============================] - 1s 2ms/step - loss: 0.0140 - accuracy: 0.9923\n",
            "Epoch 35/100\n",
            "520/520 [==============================] - 1s 2ms/step - loss: 0.0140 - accuracy: 0.9923\n",
            "Epoch 36/100\n",
            "520/520 [==============================] - 1s 2ms/step - loss: 0.0148 - accuracy: 0.9923\n",
            "Epoch 37/100\n",
            "520/520 [==============================] - 1s 2ms/step - loss: 0.0356 - accuracy: 0.9885\n",
            "Epoch 38/100\n",
            "520/520 [==============================] - 1s 2ms/step - loss: 0.0183 - accuracy: 0.9904\n",
            "Epoch 39/100\n",
            "520/520 [==============================] - 1s 2ms/step - loss: 0.0590 - accuracy: 0.9827\n",
            "Epoch 40/100\n",
            "520/520 [==============================] - 1s 2ms/step - loss: 0.0166 - accuracy: 0.9923\n",
            "Epoch 41/100\n",
            "520/520 [==============================] - 1s 2ms/step - loss: 0.0126 - accuracy: 0.9942\n",
            "Epoch 42/100\n",
            "520/520 [==============================] - 1s 2ms/step - loss: 0.0133 - accuracy: 0.9942\n",
            "Epoch 43/100\n",
            "520/520 [==============================] - 1s 2ms/step - loss: 0.0135 - accuracy: 0.9923\n",
            "Epoch 44/100\n",
            "520/520 [==============================] - 1s 2ms/step - loss: 0.0132 - accuracy: 0.9942\n",
            "Epoch 45/100\n",
            "520/520 [==============================] - 1s 2ms/step - loss: 0.0128 - accuracy: 0.9923\n",
            "Epoch 46/100\n",
            "520/520 [==============================] - 1s 2ms/step - loss: 0.0131 - accuracy: 0.9923\n",
            "Epoch 47/100\n",
            "520/520 [==============================] - 1s 2ms/step - loss: 0.0127 - accuracy: 0.9904\n",
            "Epoch 48/100\n",
            "520/520 [==============================] - 1s 2ms/step - loss: 0.0146 - accuracy: 0.9923\n",
            "Epoch 49/100\n",
            "520/520 [==============================] - 1s 2ms/step - loss: 0.0863 - accuracy: 0.9808\n",
            "Epoch 50/100\n",
            "520/520 [==============================] - 1s 2ms/step - loss: 0.0223 - accuracy: 0.9904\n",
            "Epoch 51/100\n",
            "520/520 [==============================] - 1s 2ms/step - loss: 0.0154 - accuracy: 0.9962\n",
            "Epoch 52/100\n",
            "520/520 [==============================] - 1s 2ms/step - loss: 0.0179 - accuracy: 0.9923\n",
            "Epoch 53/100\n",
            "520/520 [==============================] - 1s 2ms/step - loss: 0.0187 - accuracy: 0.9923\n",
            "Epoch 54/100\n",
            "520/520 [==============================] - 1s 2ms/step - loss: 0.0143 - accuracy: 0.9942\n",
            "Epoch 55/100\n",
            "520/520 [==============================] - 1s 2ms/step - loss: 0.0130 - accuracy: 0.9942\n",
            "Epoch 56/100\n",
            "520/520 [==============================] - 1s 2ms/step - loss: 0.0129 - accuracy: 0.9942\n",
            "Epoch 57/100\n",
            "520/520 [==============================] - 1s 2ms/step - loss: 0.0122 - accuracy: 0.9942\n",
            "Epoch 58/100\n",
            "520/520 [==============================] - 1s 2ms/step - loss: 0.0119 - accuracy: 0.9942\n",
            "Epoch 59/100\n",
            "520/520 [==============================] - 1s 2ms/step - loss: 0.0123 - accuracy: 0.9942\n",
            "Epoch 60/100\n",
            "520/520 [==============================] - 1s 2ms/step - loss: 0.0125 - accuracy: 0.9942\n",
            "Epoch 61/100\n",
            "520/520 [==============================] - 1s 2ms/step - loss: 0.0119 - accuracy: 0.9942\n",
            "Epoch 62/100\n",
            "520/520 [==============================] - 1s 2ms/step - loss: 0.0131 - accuracy: 0.9942\n",
            "Epoch 63/100\n",
            "520/520 [==============================] - 1s 2ms/step - loss: 0.0120 - accuracy: 0.9942\n",
            "Epoch 64/100\n",
            "520/520 [==============================] - 1s 2ms/step - loss: 0.0126 - accuracy: 0.9942\n",
            "Epoch 65/100\n",
            "520/520 [==============================] - 1s 2ms/step - loss: 0.0774 - accuracy: 0.9846\n",
            "Epoch 66/100\n",
            "520/520 [==============================] - 1s 2ms/step - loss: 0.0658 - accuracy: 0.9865\n",
            "Epoch 67/100\n",
            "520/520 [==============================] - 1s 2ms/step - loss: 0.0145 - accuracy: 0.9942\n",
            "Epoch 68/100\n",
            "520/520 [==============================] - 1s 2ms/step - loss: 0.0518 - accuracy: 0.9827\n",
            "Epoch 69/100\n",
            "520/520 [==============================] - 1s 2ms/step - loss: 0.0125 - accuracy: 0.9942\n",
            "Epoch 70/100\n",
            "520/520 [==============================] - 1s 2ms/step - loss: 0.0128 - accuracy: 0.9942\n",
            "Epoch 71/100\n",
            "520/520 [==============================] - 1s 2ms/step - loss: 0.0117 - accuracy: 0.9942\n",
            "Epoch 72/100\n",
            "520/520 [==============================] - 1s 2ms/step - loss: 0.0119 - accuracy: 0.9942\n",
            "Epoch 73/100\n",
            "520/520 [==============================] - 1s 2ms/step - loss: 0.0120 - accuracy: 0.9942\n",
            "Epoch 74/100\n",
            "520/520 [==============================] - 1s 2ms/step - loss: 0.0119 - accuracy: 0.9942\n",
            "Epoch 75/100\n",
            "520/520 [==============================] - 1s 2ms/step - loss: 0.0119 - accuracy: 0.9942\n",
            "Epoch 76/100\n",
            "520/520 [==============================] - 1s 2ms/step - loss: 0.0135 - accuracy: 0.9942\n",
            "Epoch 77/100\n",
            "520/520 [==============================] - 1s 2ms/step - loss: 0.0119 - accuracy: 0.9942\n",
            "Epoch 78/100\n",
            "520/520 [==============================] - 1s 2ms/step - loss: 0.0124 - accuracy: 0.9942\n",
            "Epoch 79/100\n",
            "520/520 [==============================] - 1s 2ms/step - loss: 0.0118 - accuracy: 0.9942\n",
            "Epoch 80/100\n",
            "520/520 [==============================] - 1s 2ms/step - loss: 0.0120 - accuracy: 0.9942\n",
            "Epoch 81/100\n",
            "520/520 [==============================] - 1s 2ms/step - loss: 0.0119 - accuracy: 0.9942\n",
            "Epoch 82/100\n",
            "520/520 [==============================] - 1s 2ms/step - loss: 0.0120 - accuracy: 0.9942\n",
            "Epoch 83/100\n",
            "520/520 [==============================] - 1s 2ms/step - loss: 0.1496 - accuracy: 0.9731\n",
            "Epoch 84/100\n",
            "520/520 [==============================] - 1s 2ms/step - loss: 0.0646 - accuracy: 0.9865\n",
            "Epoch 85/100\n",
            "520/520 [==============================] - 1s 2ms/step - loss: 0.0156 - accuracy: 0.9942\n",
            "Epoch 86/100\n",
            "520/520 [==============================] - 1s 2ms/step - loss: 0.0122 - accuracy: 0.9942\n",
            "Epoch 87/100\n",
            "520/520 [==============================] - 1s 2ms/step - loss: 0.0117 - accuracy: 0.9942\n",
            "Epoch 88/100\n",
            "520/520 [==============================] - 1s 2ms/step - loss: 0.0120 - accuracy: 0.9942\n",
            "Epoch 89/100\n",
            "520/520 [==============================] - 1s 2ms/step - loss: 0.0118 - accuracy: 0.9942\n",
            "Epoch 90/100\n",
            "520/520 [==============================] - 1s 2ms/step - loss: 0.0116 - accuracy: 0.9942\n",
            "Epoch 91/100\n",
            "520/520 [==============================] - 1s 2ms/step - loss: 0.0116 - accuracy: 0.9942\n",
            "Epoch 92/100\n",
            "520/520 [==============================] - 1s 2ms/step - loss: 0.0114 - accuracy: 0.9942\n",
            "Epoch 93/100\n",
            "520/520 [==============================] - 1s 2ms/step - loss: 0.0133 - accuracy: 0.9942\n",
            "Epoch 94/100\n",
            "520/520 [==============================] - 1s 2ms/step - loss: 0.0587 - accuracy: 0.9827\n",
            "Epoch 95/100\n",
            "520/520 [==============================] - 1s 2ms/step - loss: 0.0275 - accuracy: 0.9904\n",
            "Epoch 96/100\n",
            "520/520 [==============================] - 1s 2ms/step - loss: 0.0155 - accuracy: 0.9923\n",
            "Epoch 97/100\n",
            "520/520 [==============================] - 1s 2ms/step - loss: 0.0118 - accuracy: 0.9942\n",
            "Epoch 98/100\n",
            "520/520 [==============================] - 1s 2ms/step - loss: 0.0116 - accuracy: 0.9942\n",
            "Epoch 99/100\n",
            "520/520 [==============================] - 1s 2ms/step - loss: 0.0116 - accuracy: 0.9942\n",
            "Epoch 100/100\n",
            "520/520 [==============================] - 1s 2ms/step - loss: 0.0116 - accuracy: 0.9942\n",
            "17/17 [==============================] - 0s 1ms/step - loss: 0.0111 - accuracy: 0.9942\n",
            "\n",
            "accuracy: 99.42%\n"
          ],
          "name": "stdout"
        }
      ]
    },
    {
      "cell_type": "code",
      "metadata": {
        "id": "0XqMk3tNurgJ",
        "outputId": "a7fdff72-d6d8-44df-a11e-0416ac52f79f",
        "colab": {
          "base_uri": "https://localhost:8080/"
        }
      },
      "source": [
        "scores"
      ],
      "execution_count": 69,
      "outputs": [
        {
          "output_type": "execute_result",
          "data": {
            "text/plain": [
              "[0.011127591133117676, 0.9942307472229004]"
            ]
          },
          "metadata": {
            "tags": []
          },
          "execution_count": 69
        }
      ]
    },
    {
      "cell_type": "markdown",
      "metadata": {
        "id": "Tj2ttq-m6efd"
      },
      "source": [
        ""
      ]
    },
    {
      "cell_type": "markdown",
      "metadata": {
        "id": "11iX75KR3rnq"
      },
      "source": [
        "# Conclusion "
      ]
    },
    {
      "cell_type": "markdown",
      "metadata": {
        "id": "xJDjQkc66f1j"
      },
      "source": [
        "Among the three models tested, it is evident and obvious that the most acceptable of them all is the NeuralNetwork model using Keras. \n",
        "It gave a whooping accuracy result of 99.4%. \n",
        "\n",
        "This result is very acceptable in the medical sector as it gave very minimal error of prediction. "
      ]
    },
    {
      "cell_type": "markdown",
      "metadata": {
        "id": "8H1GptTe67Ms"
      },
      "source": [
        "## Suggestion"
      ]
    },
    {
      "cell_type": "markdown",
      "metadata": {
        "id": "7JVvmhkk69rH"
      },
      "source": [
        "1. More dataset can be gathered\n",
        "2. Model can further be tweaked for a better accuracy. \n",
        "3. Model can be fully deployed into production for easy and simple use. "
      ]
    }
  ]
}